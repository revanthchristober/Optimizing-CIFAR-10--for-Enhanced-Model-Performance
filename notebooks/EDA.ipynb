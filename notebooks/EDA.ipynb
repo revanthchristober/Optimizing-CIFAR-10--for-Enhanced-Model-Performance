{
 "cells": [
  {
   "cell_type": "markdown",
   "metadata": {},
   "source": [
    "## **Explanation**:\n",
    "\n",
    "1. **Imports**: Import necessary libraries including PyTorch, torchvision, matplotlib, seaborn, and sklearn's PCA.\n",
    "\n",
    "2. **Data Loading**: Load the CIFAR-10 dataset using torchvision with basic normalization.\n",
    "\n",
    "3. **Image Display**: Define a function to show images and display a batch of 4 images with their labels.\n",
    "\n",
    "4. **Class Distribution**: Calculate and visualize the distribution of classes in the training set using a bar plot.\n",
    "\n",
    "5. **Class Samples**: Display one sample image from each class in a 2x5 grid.\n",
    "\n",
    "6. **PCA Visualization**: \n",
    "   - Collect all the data and labels from the training loader.\n",
    "   - Apply PCA to reduce the dimensionality to 2 components.\n",
    "   - Plot the PCA results to visualize the high-dimensional data in 2D space with color coding for each class.\n",
    "\n",
    "This notebook provides a detailed exploratory data analysis for the CIFAR-10 dataset, offering insights into the data distribution, class balance, and visual representation of the data in lower-dimensional space."
   ]
  },
  {
   "cell_type": "code",
   "execution_count": null,
   "metadata": {},
   "outputs": [],
   "source": [
    "# Import necessary libraries\n",
    "import torch\n",
    "import torchvision\n",
    "import torchvision.transforms as transforms\n",
    "import matplotlib.pyplot as plt\n",
    "import numpy as np\n",
    "import seaborn as sns\n",
    "from sklearn.decomposition import PCA"
   ]
  },
  {
   "cell_type": "code",
   "execution_count": null,
   "metadata": {},
   "outputs": [],
   "source": [
    "# Load CIFAR-10 dataset with basic transformations\n",
    "transform = transforms.Compose([\n",
    "    transforms.ToTensor(),\n",
    "    transforms.Normalize((0.5, 0.5, 0.5), (0.5, 0.5, 0.5))\n",
    "])"
   ]
  },
  {
   "cell_type": "code",
   "execution_count": null,
   "metadata": {},
   "outputs": [],
   "source": [
    "train_set = torchvision.datasets.CIFAR10(root='./data', train=True, download=True, transform=transform)\n",
    "train_loader = torch.utils.data.DataLoader(train_set, batch_size=4, shuffle=True, num_workers=2)"
   ]
  },
  {
   "cell_type": "code",
   "execution_count": null,
   "metadata": {},
   "outputs": [],
   "source": [
    "# Function to show an image\n",
    "def imshow(img):\n",
    "    img = img / 2 + 0.5  # unnormalize\n",
    "    npimg = img.numpy()\n",
    "    plt.imshow(np.transpose(npimg, (1, 2, 0)))\n",
    "    plt.show()"
   ]
  },
  {
   "cell_type": "code",
   "execution_count": null,
   "metadata": {},
   "outputs": [],
   "source": [
    "# Get some random training images\n",
    "dataiter = iter(train_loader)\n",
    "images, labels = dataiter.next()"
   ]
  },
  {
   "cell_type": "code",
   "execution_count": null,
   "metadata": {},
   "outputs": [],
   "source": [
    "# Show images\n",
    "imshow(torchvision.utils.make_grid(images))\n",
    "\n",
    "# Print labels\n",
    "print(' '.join('%5s' % train_set.classes[labels[j]] for j in range(4)))"
   ]
  },
  {
   "cell_type": "code",
   "execution_count": null,
   "metadata": {},
   "outputs": [],
   "source": [
    "# Visualizing distribution of classes in training set\n",
    "classes = train_set.classes\n",
    "class_counts = [0] * len(classes)\n",
    "for _, label in train_set:\n",
    "    class_counts[label] += 1"
   ]
  },
  {
   "cell_type": "code",
   "execution_count": null,
   "metadata": {},
   "outputs": [],
   "source": [
    "plt.figure(figsize=(10, 5))\n",
    "sns.barplot(x=classes, y=class_counts)\n",
    "plt.title('Distribution of Classes in CIFAR-10 Training Set')\n",
    "plt.xlabel('Classes')\n",
    "plt.ylabel('Count')\n",
    "plt.xticks(rotation=45)\n",
    "plt.show()"
   ]
  },
  {
   "cell_type": "code",
   "execution_count": null,
   "metadata": {},
   "outputs": [],
   "source": [
    "# Visualizing images from each class\n",
    "fig, axes = plt.subplots(2, 5, figsize=(12, 5))\n",
    "fig.suptitle('Sample Images from Each Class')\n",
    "\n",
    "for i, ax in enumerate(axes.flatten()):\n",
    "    idx = next(i for i, label in enumerate(train_set.targets) if label == i)\n",
    "    img, label = train_set[idx]\n",
    "    img = img / 2 + 0.5  # unnormalize\n",
    "    npimg = img.numpy()\n",
    "    ax.imshow(np.transpose(npimg, (1, 2, 0)))\n",
    "    ax.set_title(classes[label])\n",
    "    ax.axis('off')\n",
    "\n",
    "plt.show()"
   ]
  },
  {
   "cell_type": "code",
   "execution_count": null,
   "metadata": {},
   "outputs": [],
   "source": [
    "# Applying PCA to visualize high-dimensional data\n",
    "all_data = []\n",
    "all_labels = []\n",
    "\n",
    "for images, labels in train_loader:\n",
    "    all_data.append(images)\n",
    "    all_labels.append(labels)"
   ]
  },
  {
   "cell_type": "code",
   "execution_count": null,
   "metadata": {},
   "outputs": [],
   "source": [
    "all_data = torch.cat(all_data).view(-1, 3 * 32 * 32)\n",
    "all_labels = torch.cat(all_labels)"
   ]
  },
  {
   "cell_type": "code",
   "execution_count": null,
   "metadata": {},
   "outputs": [],
   "source": [
    "pca = PCA(n_components=2)\n",
    "pca_result = pca.fit_transform(all_data.numpy())"
   ]
  },
  {
   "cell_type": "code",
   "execution_count": null,
   "metadata": {},
   "outputs": [],
   "source": [
    "plt.figure(figsize=(10, 10))\n",
    "scatter = plt.scatter(pca_result[:, 0], pca_result[:, 1], c=all_labels, cmap='tab10')\n",
    "plt.legend(handles=scatter.legend_elements()[0], labels=classes)\n",
    "plt.title('PCA of CIFAR-10 Data')\n",
    "plt.xlabel('Principal Component 1')\n",
    "plt.ylabel('Principal Component 2')\n",
    "plt.show()"
   ]
  }
 ],
 "metadata": {
  "language_info": {
   "name": "python"
  }
 },
 "nbformat": 4,
 "nbformat_minor": 2
}
